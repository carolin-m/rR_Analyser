{
 "cells": [
  {
   "cell_type": "markdown",
   "metadata": {},
   "source": [
    "## rR-Analyzer\n",
    "\n",
    "- read data sets from a folder\n",
    "- spline all data sets on a similar x-axis\n",
    "- background correction of the data\n",
    "- normalize data to a given peak (*e.g.* solvent)\n",
    "- subtract spectra (*e.g.* solvent)\n",
    "- write ASCII of manipulated data\n",
    "- find peaks and write ASCII including peak positions and their relative intensities"
   ]
  },
  {
   "cell_type": "code",
   "execution_count": null,
   "metadata": {},
   "outputs": [],
   "source": [
    "from __future__ import division,unicode_literals\n",
    "import scipy.constants as const\n",
    "\n",
    "import sys, os\n",
    "sys.path.append(\"/home/carom/git_projects/rR_Analyzer/\")\n",
    "import numpy as np \n",
    "import pandas as pd\n",
    "import pylab\n",
    "import matplotlib\n",
    "\n",
    "import matplotlib.pyplot as plt\n",
    "from matplotlib import gridspec\n",
    "import matplotlib.cm as cm\n",
    "\n",
    "import scipy\n",
    "import scipy.stats as stats\n",
    "from scipy.interpolate import interp1d\n",
    "from scipy import signal\n",
    "\n",
    "import rR_analyser as rR"
   ]
  },
  {
   "cell_type": "markdown",
   "metadata": {},
   "source": [
    "### Read and average data with multiple frames\n",
    "\n",
    "- reads data with multiple frames from a subfolder\n",
    "- plots the data of the single frames in the given spectral window\n",
    "- averages the data as specified in ``` average_start```  and ``` average_end``` "
   ]
  },
  {
   "cell_type": "code",
   "execution_count": null,
   "metadata": {},
   "outputs": [],
   "source": [
    "foldername = 'example_data'\n",
    "subfoldername = 'multiple_spectra_multicolumn'\n",
    "rR_A = rR.rR_Analyzer(path=os.getcwd())\n",
    "rR_A.read_frames(foldername=foldername,\n",
    "                 subfoldername=subfoldername,\n",
    "                 file_ending='.txt',\n",
    "                 xmin=645,\n",
    "                 xmax=840,\n",
    "                 steps=None,\n",
    "                 columntype='multiple')"
   ]
  },
  {
   "cell_type": "code",
   "execution_count": null,
   "metadata": {},
   "outputs": [],
   "source": [
    "rR_A.average_frames(number=[0,0],\n",
    "                average_start=[0,10],\n",
    "                average_end=[5,20],\n",
    "                specification=['ocp','red'])"
   ]
  },
  {
   "cell_type": "markdown",
   "metadata": {},
   "source": [
    "### Work with the averaged files or files with a single spectrum"
   ]
  },
  {
   "cell_type": "code",
   "execution_count": null,
   "metadata": {},
   "outputs": [],
   "source": [
    "rR_A.read_files(foldername=foldername, \n",
    "                end='.txt', \n",
    "                xmin=750, \n",
    "                xmax=2200,\n",
    "                steps=None)"
   ]
  },
  {
   "cell_type": "markdown",
   "metadata": {},
   "source": [
    "### Baseline Correction\n",
    "\n",
    "- ``` \n",
    "ZhangFit\n",
    "```: Zhi-Min Zhang, Shan Chena and Yi-Zeng Liang, Baseline correction using adaptive iteratively reweighted penalized least squares, *Analyst*, **2010**, *135*, 1138-1146 (https://doi.org/10.1039/B922045C)\n",
    "\n",
    "- ``` \n",
    "ModPoly\n",
    "```: Chad A. Lieber, Anita Mahadevan-Jansen, Automated Method for Subtraction of Fluorescence from Biological Raman Spectra, *Applied Spectroscopy*, **2003**, 57, *11*, 1363-1367 (https://doi.org/10.1366/000370203322554518)\n",
    "\n",
    "- ``` \n",
    "IModPoly\n",
    "```: Jianhua Zhao, Harvey Lui, David I. McLean, Haishan Zeng, Automated Autofluorescence Background Subtraction Algorithm for Biomedical Raman Spectroscopy, *Applied Spectroscopy*, **2007**, 61, *11*, 1225-1232 (https://doi.org/10.1366/000370207782597003)\n"
   ]
  },
  {
   "cell_type": "code",
   "execution_count": null,
   "metadata": {},
   "outputs": [],
   "source": [
    "rR_bgr = rR_A.BGR_corr(method='ZhangFit', \n",
    "                       lambda_=10000, \n",
    "                       porder=3, \n",
    "                       itermax=35, \n",
    "                       savefig=True)"
   ]
  },
  {
   "cell_type": "code",
   "execution_count": null,
   "metadata": {},
   "outputs": [],
   "source": [
    "rR_norm = rR_bgr.norm_peak(peak=1373,\n",
    "               bnd=5,\n",
    "               xmin_p = 800,\n",
    "               xmax_p = 2200,\n",
    "               steps=500,\n",
    "               figurename = 'norm',\n",
    "               savefig=False)"
   ]
  },
  {
   "cell_type": "code",
   "execution_count": null,
   "metadata": {},
   "outputs": [],
   "source": [
    "rR_diff = rR_norm.subtract_solvent(solvent_index=1,\n",
    "                      xmin_p=800, \n",
    "                      xmax_p=2000, \n",
    "                      steps=None, \n",
    "                      savefig=False)\n"
   ]
  },
  {
   "cell_type": "code",
   "execution_count": null,
   "metadata": {},
   "outputs": [],
   "source": [
    "rR_final = rR_diff.norm_peak(peak=1605,\n",
    "               bnd=20,\n",
    "               xmin_p = 750,\n",
    "               xmax_p = 2200,\n",
    "               steps=2000,\n",
    "               figurename = 'norm',\n",
    "               savefig=False)"
   ]
  },
  {
   "cell_type": "markdown",
   "metadata": {},
   "source": [
    "### Write Files\n",
    "\n",
    "- write manipulated data for plotting\n",
    "- write peaks and their respective rel. intensity (of the normalized data)"
   ]
  },
  {
   "cell_type": "code",
   "execution_count": null,
   "metadata": {},
   "outputs": [],
   "source": [
    "rR_final.write_data(name='manipulated_data')\n",
    "rR_final.write_peaks(name='peak_data',\n",
    "                     minimum=0.2)"
   ]
  },
  {
   "cell_type": "code",
   "execution_count": null,
   "metadata": {},
   "outputs": [],
   "source": []
  }
 ],
 "metadata": {
  "kernelspec": {
   "display_name": "Python 3",
   "language": "python",
   "name": "python3"
  },
  "language_info": {
   "codemirror_mode": {
    "name": "ipython",
    "version": 3
   },
   "file_extension": ".py",
   "mimetype": "text/x-python",
   "name": "python",
   "nbconvert_exporter": "python",
   "pygments_lexer": "ipython3",
   "version": "3.7.4"
  }
 },
 "nbformat": 4,
 "nbformat_minor": 2
}
